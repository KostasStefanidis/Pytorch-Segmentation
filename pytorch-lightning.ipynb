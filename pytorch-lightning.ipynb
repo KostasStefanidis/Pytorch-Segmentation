{
 "cells": [
  {
   "cell_type": "code",
   "execution_count": null,
   "metadata": {},
   "outputs": [],
   "source": [
    "import lightning.pytorch as pl\n",
    "import torch\n",
    "from lightning.pytorch.callbacks import ModelCheckpoint, StochasticWeightAveraging, EarlyStopping\n",
    "from lightning.pytorch.callbacks import ModelSummary, LearningRateFinder, TQDMProgressBar\n",
    "from lightning.pytorch.loggers import TensorBoardLogger\n",
    "from torchsummary import summary\n",
    "import yaml\n",
    "from lib.datasets.cityscapes import CityscapesDataModule\n",
    "from lib.models.base_module import SegmentationModule"
   ]
  },
  {
   "cell_type": "code",
   "execution_count": null,
   "metadata": {},
   "outputs": [],
   "source": [
    "# Read YAML file\n",
    "print('Reading configuration from config yaml')\n",
    "\n",
    "with open('config/Cityscapes.yaml', 'r') as config_file:\n",
    "    config: dict = yaml.safe_load(config_file)\n",
    "\n",
    "# TODO: Add default values if a variable is not defined in the config file\n",
    "\n",
    "LOGS_DIR = config.get('logs_dir')\n",
    "model_config: dict = config.get('model_config')\n",
    "dataset_config: dict = config.get('dataset_config')\n",
    "train_config: dict = config.get('train_config')\n",
    "augmentation_config: dict = train_config.get('augmentations')\n",
    "\n",
    "# Dataset Configuration\n",
    "DATASET = dataset_config.get('name')\n",
    "NUM_TRAIN_BATCHES = dataset_config.get('num_train_batches', 1.0)\n",
    "NUM_EVAL_BATCHES = dataset_config.get('num_eval_batches', 1.0)\n",
    "\n",
    "# Model Configuration\n",
    "MODEL_TYPE = model_config.get('architecture')\n",
    "MODEL_NAME = model_config.get('name')\n",
    "\n",
    "EPOCHS = train_config.get('epochs') #\n",
    "PRECISION = str(train_config.get('precision')) #\n",
    "DISTRIBUTE_STRATEGY = train_config.get('distribute').get('strategy')\n",
    "DEVICES = train_config.get('distribute').get('devices')\n",
    "\n",
    "# Stohastic weight averaging parameters\n",
    "SWA = train_config.get('swa')\n",
    "if SWA is not None:\n",
    "    SWA_LRS = SWA.get('lr', 1e-3)\n",
    "    SWA_EPOCH_START = SWA.get('epoch_start', 0.7)"
   ]
  },
  {
   "cell_type": "code",
   "execution_count": null,
   "metadata": {},
   "outputs": [],
   "source": [
    "model_checkpoint_path = f'saved_models/{MODEL_TYPE}/{MODEL_NAME}'\n",
    "model_checkpoint_callback = ModelCheckpoint(dirpath=LOGS_DIR,\n",
    "                                            filename=model_checkpoint_path,\n",
    "                                            save_weights_only=False,\n",
    "                                            monitor='val_loss',\n",
    "                                            mode='min',\n",
    "                                        #    monitor='MeanIoU',\n",
    "                                        #    mode='max',\n",
    "                                            verbose=True)\n",
    "\n",
    "early_stopping_callback = EarlyStopping(patience=6,\n",
    "                                        monitor='val_loss',\n",
    "                                        # mode='max',\n",
    "                                        min_delta=1e-6,\n",
    "                                        verbose=True,\n",
    "                                        strict=True,\n",
    "                                        check_finite=True,\n",
    "                                        log_rank_zero_only=True)\n",
    "\n",
    "#profiler = AdvancedProfiler(dirpath=LOGS_DIR, filename=\"perf_logs\")\n",
    "#lr_finder_callback = LearningRateFinder()"
   ]
  },
  {
   "cell_type": "code",
   "execution_count": null,
   "metadata": {},
   "outputs": [],
   "source": [
    "callbacks = [model_checkpoint_callback, ModelSummary(max_depth=3)]\n",
    "#, DeviceStatsMonitor()\n",
    "if SWA is not None:\n",
    "    swa_callback = StochasticWeightAveraging(swa_lrs=SWA_LRS,\n",
    "                                         swa_epoch_start=SWA_EPOCH_START)\n",
    "    callbacks.append(swa_callback)"
   ]
  },
  {
   "cell_type": "code",
   "execution_count": null,
   "metadata": {},
   "outputs": [],
   "source": [
    "logger = TensorBoardLogger(save_dir=f'{LOGS_DIR}/Tensorboard_logs', name=f'{MODEL_TYPE}/{MODEL_NAME}')"
   ]
  },
  {
   "cell_type": "code",
   "execution_count": null,
   "metadata": {},
   "outputs": [],
   "source": [
    "model = SegmentationModule(\n",
    "    model_config = model_config,\n",
    "    train_config=train_config,\n",
    "    logs_dir=LOGS_DIR\n",
    ")\n",
    "\n",
    "data_module = CityscapesDataModule(dataset_config, augmentation_config)\n",
    "\n",
    "trainer = pl.Trainer(\n",
    "    accelerator='gpu',\n",
    "    devices=DEVICES,\n",
    "    limit_train_batches=NUM_TRAIN_BATCHES,\n",
    "    limit_val_batches=NUM_EVAL_BATCHES,\n",
    "    max_epochs=EPOCHS,\n",
    "    #precision=PRECISION,\n",
    "    deterministic=False,\n",
    "    callbacks=callbacks,\n",
    "    default_root_dir=LOGS_DIR,\n",
    "    logger=logger,\n",
    "    #strategy=DISTRIBUTE_STRATEGY\n",
    "    #profiler='simple',\n",
    "    #sync_batchnorm=True,\n",
    ")"
   ]
  },
  {
   "cell_type": "code",
   "execution_count": null,
   "metadata": {},
   "outputs": [],
   "source": [
    "torch.set_float32_matmul_precision('high')"
   ]
  },
  {
   "cell_type": "code",
   "execution_count": null,
   "metadata": {},
   "outputs": [],
   "source": [
    "trainer.fit(model, datamodule=data_module)"
   ]
  },
  {
   "attachments": {},
   "cell_type": "markdown",
   "metadata": {},
   "source": [
    "## Pure Pytorch"
   ]
  },
  {
   "cell_type": "code",
   "execution_count": null,
   "metadata": {},
   "outputs": [],
   "source": [
    "checkpoint = torch.load('/mnt/logs/saved_models/DeepLabV3/Full1.ckpt')\n",
    "print(checkpoint.keys())\n",
    "checkpoint['hyper_parameters']"
   ]
  },
  {
   "attachments": {},
   "cell_type": "markdown",
   "metadata": {},
   "source": [
    "## Lightning"
   ]
  },
  {
   "cell_type": "code",
   "execution_count": null,
   "metadata": {},
   "outputs": [],
   "source": [
    "model = SegmentationModule.load_from_checkpoint('/mnt/logs/saved_models/DeepLabV3/Full1.ckpt')"
   ]
  },
  {
   "cell_type": "code",
   "execution_count": null,
   "metadata": {},
   "outputs": [],
   "source": [
    "trainer.predict(model, datamodule=data_module, return_predictions=False)"
   ]
  }
 ],
 "metadata": {
  "kernelspec": {
   "display_name": "base",
   "language": "python",
   "name": "python3"
  },
  "language_info": {
   "codemirror_mode": {
    "name": "ipython",
    "version": 3
   },
   "file_extension": ".py",
   "mimetype": "text/x-python",
   "name": "python",
   "nbconvert_exporter": "python",
   "pygments_lexer": "ipython3",
   "version": "3.10.9"
  },
  "orig_nbformat": 4
 },
 "nbformat": 4,
 "nbformat_minor": 2
}
